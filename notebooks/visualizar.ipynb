{
 "cells": [
  {
   "cell_type": "code",
   "execution_count": 5,
   "metadata": {},
   "outputs": [
    {
     "name": "stdout",
     "output_type": "stream",
     "text": [
      "Extraindo dados de: https://en.wikipedia.org/wiki/Cristiano_Ronaldo\n",
      "Extraindo dados de: https://en.wikipedia.org/wiki/Lionel_Messi\n",
      "Extraindo dados de: https://en.wikipedia.org/wiki/Robert_Lewandowski\n",
      "Extraindo dados de: https://en.wikipedia.org/wiki/Neymar\n",
      "Extraindo dados de: https://en.wikipedia.org/wiki/Erling_Haaland\n",
      "Extraindo dados de: https://en.wikipedia.org/wiki/Kylian_Mbapp%C3%A9\n",
      "Extraindo dados de: https://en.wikipedia.org/wiki/Harry_Kane\n",
      "Extraindo dados de: https://en.wikipedia.org/wiki/Luis_Su%C3%A1rez\n"
     ]
    }
   ],
   "source": [
    "import sys\n",
    "sys.path.append(\"..\")\n",
    "import goal500\n",
    "import pandas as pd\n",
    "\n",
    "dados = goal500.get_player_stats()\n"
   ]
  },
  {
   "cell_type": "code",
   "execution_count": 6,
   "metadata": {},
   "outputs": [
    {
     "data": {
      "text/html": [
       "<div>\n",
       "<style scoped>\n",
       "    .dataframe tbody tr th:only-of-type {\n",
       "        vertical-align: middle;\n",
       "    }\n",
       "\n",
       "    .dataframe tbody tr th {\n",
       "        vertical-align: top;\n",
       "    }\n",
       "\n",
       "    .dataframe thead th {\n",
       "        text-align: right;\n",
       "    }\n",
       "</style>\n",
       "<table border=\"1\" class=\"dataframe\">\n",
       "  <thead>\n",
       "    <tr style=\"text-align: right;\">\n",
       "      <th></th>\n",
       "      <th>year</th>\n",
       "      <th>total</th>\n",
       "      <th>type</th>\n",
       "      <th>name</th>\n",
       "    </tr>\n",
       "  </thead>\n",
       "  <tbody>\n",
       "    <tr>\n",
       "      <th>0</th>\n",
       "      <td>2002</td>\n",
       "      <td>0</td>\n",
       "      <td>club</td>\n",
       "      <td>Cristiano Ronaldo</td>\n",
       "    </tr>\n",
       "    <tr>\n",
       "      <th>1</th>\n",
       "      <td>2002</td>\n",
       "      <td>5</td>\n",
       "      <td>club</td>\n",
       "      <td>Cristiano Ronaldo</td>\n",
       "    </tr>\n",
       "    <tr>\n",
       "      <th>2</th>\n",
       "      <td>2003</td>\n",
       "      <td>6</td>\n",
       "      <td>club</td>\n",
       "      <td>Cristiano Ronaldo</td>\n",
       "    </tr>\n",
       "    <tr>\n",
       "      <th>3</th>\n",
       "      <td>2004</td>\n",
       "      <td>9</td>\n",
       "      <td>club</td>\n",
       "      <td>Cristiano Ronaldo</td>\n",
       "    </tr>\n",
       "    <tr>\n",
       "      <th>4</th>\n",
       "      <td>2005</td>\n",
       "      <td>12</td>\n",
       "      <td>club</td>\n",
       "      <td>Cristiano Ronaldo</td>\n",
       "    </tr>\n",
       "    <tr>\n",
       "      <th>...</th>\n",
       "      <td>...</td>\n",
       "      <td>...</td>\n",
       "      <td>...</td>\n",
       "      <td>...</td>\n",
       "    </tr>\n",
       "    <tr>\n",
       "      <th>285</th>\n",
       "      <td>2020</td>\n",
       "      <td>4</td>\n",
       "      <td>international</td>\n",
       "      <td>Luis Suárez</td>\n",
       "    </tr>\n",
       "    <tr>\n",
       "      <th>286</th>\n",
       "      <td>2021</td>\n",
       "      <td>2</td>\n",
       "      <td>international</td>\n",
       "      <td>Luis Suárez</td>\n",
       "    </tr>\n",
       "    <tr>\n",
       "      <th>287</th>\n",
       "      <td>2022</td>\n",
       "      <td>3</td>\n",
       "      <td>international</td>\n",
       "      <td>Luis Suárez</td>\n",
       "    </tr>\n",
       "    <tr>\n",
       "      <th>288</th>\n",
       "      <td>2023</td>\n",
       "      <td>0</td>\n",
       "      <td>international</td>\n",
       "      <td>Luis Suárez</td>\n",
       "    </tr>\n",
       "    <tr>\n",
       "      <th>289</th>\n",
       "      <td>2024</td>\n",
       "      <td>1</td>\n",
       "      <td>international</td>\n",
       "      <td>Luis Suárez</td>\n",
       "    </tr>\n",
       "  </tbody>\n",
       "</table>\n",
       "<p>290 rows × 4 columns</p>\n",
       "</div>"
      ],
      "text/plain": [
       "     year  total           type               name\n",
       "0    2002      0           club  Cristiano Ronaldo\n",
       "1    2002      5           club  Cristiano Ronaldo\n",
       "2    2003      6           club  Cristiano Ronaldo\n",
       "3    2004      9           club  Cristiano Ronaldo\n",
       "4    2005     12           club  Cristiano Ronaldo\n",
       "..    ...    ...            ...                ...\n",
       "285  2020      4  international        Luis Suárez\n",
       "286  2021      2  international        Luis Suárez\n",
       "287  2022      3  international        Luis Suárez\n",
       "288  2023      0  international        Luis Suárez\n",
       "289  2024      1  international        Luis Suárez\n",
       "\n",
       "[290 rows x 4 columns]"
      ]
     },
     "execution_count": null,
     "metadata": {},
     "output_type": "execute_result"
    }
   ],
   "source": [
    "dados"
   ]
  },
  {
   "cell_type": "code",
   "execution_count": 8,
   "metadata": {},
   "outputs": [
    {
     "name": "stdout",
     "output_type": "stream",
     "text": [
      "Animação salva em: ../images/cumulative_goals.gif\n"
     ]
    },
    {
     "data": {
      "text/plain": [
       "'../images/cumulative_goals.gif'"
      ]
     },
     "execution_count": null,
     "metadata": {},
     "output_type": "execute_result"
    }
   ],
   "source": [
    "goal500.create_animation(dados, '../images/cumulative_goals.gif')"
   ]
  }
 ],
 "metadata": {
  "language_info": {
   "name": "python"
  }
 },
 "nbformat": 4,
 "nbformat_minor": 2
}
